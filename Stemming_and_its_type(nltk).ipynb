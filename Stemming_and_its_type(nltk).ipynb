{
  "nbformat": 4,
  "nbformat_minor": 0,
  "metadata": {
    "colab": {
      "provenance": []
    },
    "kernelspec": {
      "name": "python3",
      "display_name": "Python 3"
    },
    "language_info": {
      "name": "python"
    }
  },
  "cells": [
    {
      "cell_type": "code",
      "execution_count": null,
      "metadata": {
        "id": "KNZkSlpShuzr"
      },
      "outputs": [],
      "source": [
        "import nltk"
      ]
    },
    {
      "cell_type": "code",
      "source": [
        "words=['writing','writes','programming','programs','eats','eating','eaten','finally','finalized','history','mainly','main','aiming','needle','waiver','forgiven|']"
      ],
      "metadata": {
        "id": "sGa5C7Z_26X-"
      },
      "execution_count": null,
      "outputs": []
    },
    {
      "cell_type": "code",
      "source": [
        "from nltk.stem import PorterStemmer"
      ],
      "metadata": {
        "id": "6NtTZ_nN5myD"
      },
      "execution_count": null,
      "outputs": []
    },
    {
      "cell_type": "code",
      "source": [
        "p_stemmer=PorterStemmer()"
      ],
      "metadata": {
        "id": "ucOiEFvL5uy1"
      },
      "execution_count": null,
      "outputs": []
    },
    {
      "cell_type": "code",
      "source": [
        "for word in words:\n",
        "  print(word+\"--->\"+p_stemmer.stem(word))"
      ],
      "metadata": {
        "colab": {
          "base_uri": "https://localhost:8080/"
        },
        "id": "69AgYhS45zB9",
        "outputId": "0634e653-bb8d-4878-edaa-50a128461fcc"
      },
      "execution_count": null,
      "outputs": [
        {
          "output_type": "stream",
          "name": "stdout",
          "text": [
            "writing--->write\n",
            "writes--->write\n",
            "programming--->program\n",
            "programs--->program\n",
            "eats--->eat\n",
            "eating--->eat\n",
            "eaten--->eaten\n",
            "finally--->final\n",
            "finalized--->final\n",
            "history--->histori\n",
            "mainly--->mainli\n",
            "main--->main\n",
            "aiming--->aim\n",
            "needle--->needl\n",
            "waiver--->waiver\n",
            "forgiven|--->forgiven|\n"
          ]
        }
      ]
    },
    {
      "cell_type": "code",
      "source": [
        "p_stemmer.stem('congratulations')"
      ],
      "metadata": {
        "colab": {
          "base_uri": "https://localhost:8080/",
          "height": 36
        },
        "id": "uIEXfbVY6ACV",
        "outputId": "c7f89bd3-c87f-4a4a-ae04-19bf359b73f1"
      },
      "execution_count": null,
      "outputs": [
        {
          "output_type": "execute_result",
          "data": {
            "text/plain": [
              "'congratul'"
            ],
            "application/vnd.google.colaboratory.intrinsic+json": {
              "type": "string"
            }
          },
          "metadata": {},
          "execution_count": 9
        }
      ]
    },
    {
      "cell_type": "code",
      "source": [
        "p_stemmer.stem('sitting')"
      ],
      "metadata": {
        "colab": {
          "base_uri": "https://localhost:8080/",
          "height": 36
        },
        "id": "hJvOPJP66ZY-",
        "outputId": "8fcf0a1e-ff6e-401a-e5e6-b208adc5c616"
      },
      "execution_count": null,
      "outputs": [
        {
          "output_type": "execute_result",
          "data": {
            "text/plain": [
              "'sit'"
            ],
            "application/vnd.google.colaboratory.intrinsic+json": {
              "type": "string"
            }
          },
          "metadata": {},
          "execution_count": 11
        }
      ]
    },
    {
      "cell_type": "markdown",
      "source": [
        "RegexpStemmer Class"
      ],
      "metadata": {
        "id": "78VCYpOh60vg"
      }
    },
    {
      "cell_type": "code",
      "source": [
        "from nltk.stem import RegexpStemmer"
      ],
      "metadata": {
        "id": "R8DWqnEn6xM1"
      },
      "execution_count": null,
      "outputs": []
    },
    {
      "cell_type": "code",
      "source": [
        "reg_stemmer=RegexpStemmer(\"ing$|s$|e$|able$\",min=4)"
      ],
      "metadata": {
        "id": "O08w_y6G6-ae"
      },
      "execution_count": null,
      "outputs": []
    },
    {
      "cell_type": "code",
      "source": [
        "for word in words:\n",
        "  print(word+\"--->\"+reg_stemmer.stem(word))"
      ],
      "metadata": {
        "colab": {
          "base_uri": "https://localhost:8080/"
        },
        "id": "AzZTNnk57MkO",
        "outputId": "116b9790-52e0-450c-e387-b9260d74398d"
      },
      "execution_count": null,
      "outputs": [
        {
          "output_type": "stream",
          "name": "stdout",
          "text": [
            "writing--->writ\n",
            "writes--->write\n",
            "programming--->programm\n",
            "programs--->program\n",
            "eats--->eat\n",
            "eating--->eat\n",
            "eaten--->eaten\n",
            "finally--->finally\n",
            "finalized--->finalized\n",
            "history--->history\n",
            "mainly--->mainly\n",
            "main--->main\n",
            "aiming--->aim\n",
            "needle--->needl\n",
            "waiver--->waiver\n",
            "forgiven|--->forgiven|\n"
          ]
        }
      ]
    },
    {
      "cell_type": "code",
      "source": [
        "reg_stemmer.stem('eating')"
      ],
      "metadata": {
        "colab": {
          "base_uri": "https://localhost:8080/",
          "height": 36
        },
        "id": "sjhhJZAf7bDm",
        "outputId": "b7b9a945-42ea-4153-94f0-c771f4c21a0c"
      },
      "execution_count": null,
      "outputs": [
        {
          "output_type": "execute_result",
          "data": {
            "text/plain": [
              "'eat'"
            ],
            "application/vnd.google.colaboratory.intrinsic+json": {
              "type": "string"
            }
          },
          "metadata": {},
          "execution_count": 16
        }
      ]
    },
    {
      "cell_type": "markdown",
      "source": [
        "**SnowBallStemmer**"
      ],
      "metadata": {
        "id": "GHP0Uj487lnQ"
      }
    },
    {
      "cell_type": "code",
      "source": [
        "from nltk.stem import SnowballStemmer"
      ],
      "metadata": {
        "id": "YoG6is5R7hb-"
      },
      "execution_count": null,
      "outputs": []
    },
    {
      "cell_type": "code",
      "source": [
        "s_stemmer=SnowballStemmer('english')"
      ],
      "metadata": {
        "id": "ZmAwd9zJ7tEF"
      },
      "execution_count": null,
      "outputs": []
    },
    {
      "cell_type": "code",
      "source": [
        "for word in words:\n",
        "  print(word+\"--->\"+s_stemmer.stem(word))"
      ],
      "metadata": {
        "colab": {
          "base_uri": "https://localhost:8080/"
        },
        "id": "b4g6_Imb7xZ9",
        "outputId": "14a4021a-2377-4bc5-e967-4fec073b3e7e"
      },
      "execution_count": null,
      "outputs": [
        {
          "output_type": "stream",
          "name": "stdout",
          "text": [
            "writing--->write\n",
            "writes--->write\n",
            "programming--->program\n",
            "programs--->program\n",
            "eats--->eat\n",
            "eating--->eat\n",
            "eaten--->eaten\n",
            "finally--->final\n",
            "finalized--->final\n",
            "history--->histori\n",
            "mainly--->main\n",
            "main--->main\n",
            "aiming--->aim\n",
            "needle--->needl\n",
            "waiver--->waiver\n",
            "forgiven|--->forgiven|\n"
          ]
        }
      ]
    },
    {
      "cell_type": "code",
      "source": [],
      "metadata": {
        "id": "ed7KWNcS763F"
      },
      "execution_count": null,
      "outputs": []
    }
  ]
}