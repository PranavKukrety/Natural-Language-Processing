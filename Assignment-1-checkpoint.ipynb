{
 "cells": [
  {
   "cell_type": "code",
   "execution_count": 6,
   "id": "68c82efb-056b-4509-9c9d-5b485bde3e75",
   "metadata": {},
   "outputs": [
    {
     "name": "stdout",
     "output_type": "stream",
     "text": [
      "Full form of nlp is Natural Language Processing\n"
     ]
    }
   ],
   "source": [
    "#Q1\n",
    "\n",
    "nlp=\"Natural Language Processing\"\n",
    "print(f\"Full form of nlp is {nlp}\")"
   ]
  },
  {
   "cell_type": "code",
   "execution_count": 22,
   "id": "b2fc4efa-8c45-4d91-99e1-f816ad8194e8",
   "metadata": {},
   "outputs": [],
   "source": [
    " #Q2"
   ]
  },
  {
   "cell_type": "code",
   "execution_count": 26,
   "id": "341ecc1b-cad6-4cd3-a4ca-82b3947da3e6",
   "metadata": {},
   "outputs": [
    {
     "name": "stdout",
     "output_type": "stream",
     "text": [
      "Overwriting contacts.txt\n"
     ]
    }
   ],
   "source": [
    "%%writefile contacts.txt\n",
    "Hi1\n",
    "Hi2"
   ]
  },
  {
   "cell_type": "code",
   "execution_count": 44,
   "id": "2c34f1c4-807c-4bfa-8e5e-177f356caefe",
   "metadata": {},
   "outputs": [
    {
     "data": {
      "text/plain": [
       "'Hi1\\nHi2\\n'"
      ]
     },
     "execution_count": 44,
     "metadata": {},
     "output_type": "execute_result"
    }
   ],
   "source": [
    "#Q3\n",
    "field=open('contacts.txt')\n",
    "field.read()"
   ]
  },
  {
   "cell_type": "code",
   "execution_count": 48,
   "id": "9ab2d926-6be9-4fec-a625-b7e4592af739",
   "metadata": {},
   "outputs": [],
   "source": [
    "field.close()"
   ]
  },
  {
   "cell_type": "code",
   "execution_count": 34,
   "id": "c885e2c0-07e4-4f75-87b4-981b80ac407c",
   "metadata": {},
   "outputs": [
    {
     "name": "stdout",
     "output_type": "stream",
     "text": [
      "Collecting PyPDF2\n",
      "  Downloading pypdf2-3.0.1-py3-none-any.whl.metadata (6.8 kB)\n",
      "Downloading pypdf2-3.0.1-py3-none-any.whl (232 kB)\n",
      "Installing collected packages: PyPDF2\n",
      "Successfully installed PyPDF2-3.0.1\n",
      "Note: you may need to restart the kernel to use updated packages.\n"
     ]
    }
   ],
   "source": [
    "pip install PyPDF2"
   ]
  },
  {
   "cell_type": "code",
   "execution_count": 54,
   "id": "8ef05397-61d7-444c-9b09-9cf90b4e5dd7",
   "metadata": {},
   "outputs": [
    {
     "name": "stdout",
     "output_type": "stream",
     "text": [
      "AUTHORS:  \n",
      "Amy Baker, Finance Chair, x345, abaker@ourcompany.com  \n",
      "Chris Donaldson, Accounting Dir., x621, cdonaldson@ourcompany.com  \n",
      "Erin Freeman, Sr. VP, x879, efreeman@ourcompany.com  \n"
     ]
    }
   ],
   "source": [
    "#Q4\n",
    "import PyPDF2\n",
    "pdf_path=\"Business_Proposal.pdf\"\n",
    "f=open(pdf_path,'rb')\n",
    "reader=PyPDF2.PdfReader(f)\n",
    "page_two=reader.pages[1]\n",
    "page_two_extract=page_two.extract_text()\n",
    "print(page_two_extract)"
   ]
  },
  {
   "cell_type": "code",
   "execution_count": 75,
   "id": "049bab9c-bad1-4468-baa8-f5afedaa1405",
   "metadata": {},
   "outputs": [
    {
     "data": {
      "text/plain": [
       "188"
      ]
     },
     "execution_count": 75,
     "metadata": {},
     "output_type": "execute_result"
    }
   ],
   "source": [
    "field=open('contacts.txt','a+')\n",
    "field.write(page_two_extract)"
   ]
  },
  {
   "cell_type": "code",
   "execution_count": 81,
   "id": "7c8ef1ea-c2a7-405d-af00-1772c9d0c9c2",
   "metadata": {},
   "outputs": [
    {
     "data": {
      "text/plain": [
       "0"
      ]
     },
     "execution_count": 81,
     "metadata": {},
     "output_type": "execute_result"
    }
   ],
   "source": [
    "field.seek(0)"
   ]
  },
  {
   "cell_type": "code",
   "execution_count": 83,
   "id": "66508ab7-f56b-4a40-a3e7-a0790564f8bf",
   "metadata": {},
   "outputs": [
    {
     "data": {
      "text/plain": [
       "'Hi1\\nHi2\\nAUTHORS:  \\nAmy Baker, Finance Chair, x345, abaker@ourcompany.com  \\nChris Donaldson, Accounting Dir., x621, cdonaldson@ourcompany.com  \\nErin Freeman, Sr. VP, x879, efreeman@ourcompany.com  AUTHORS:  \\nAmy Baker, Finance Chair, x345, abaker@ourcompany.com  \\nChris Donaldson, Accounting Dir., x621, cdonaldson@ourcompany.com  \\nErin Freeman, Sr. VP, x879, efreeman@ourcompany.com  AUTHORS:  \\nAmy Baker, Finance Chair, x345, abaker@ourcompany.com  \\nChris Donaldson, Accounting Dir., x621, cdonaldson@ourcompany.com  \\nErin Freeman, Sr. VP, x879, efreeman@ourcompany.com  AUTHORS:  \\nAmy Baker, Finance Chair, x345, abaker@ourcompany.com  \\nChris Donaldson, Accounting Dir., x621, cdonaldson@ourcompany.com  \\nErin Freeman, Sr. VP, x879, efreeman@ourcompany.com  '"
      ]
     },
     "execution_count": 83,
     "metadata": {},
     "output_type": "execute_result"
    }
   ],
   "source": [
    "field.read()"
   ]
  },
  {
   "cell_type": "code",
   "execution_count": 93,
   "id": "684d11a3-85b1-4972-af3b-12f14aa4cfd6",
   "metadata": {},
   "outputs": [
    {
     "name": "stdout",
     "output_type": "stream",
     "text": [
      "Email addresses presents in variable page_two_extract is: ['abaker@ourcompany.com', 'cdonaldson@ourcompany.com', 'efreeman@ourcompany.com']\n"
     ]
    }
   ],
   "source": [
    "##Q6\n",
    "import re\n",
    "\n",
    "pattern = r'\\b[A-Za-z0-9._%+-]+@[A-Za-z0-9.-]+\\.[A-Z|a-z]{2,}\\b'\n",
    "result = re.findall(pattern,page_two_extract)\n",
    "print('Email addresses presents in variable page_two_extract is:',result)\n"
   ]
  }
 ],
 "metadata": {
  "kernelspec": {
   "display_name": "Python 3 (ipykernel)",
   "language": "python",
   "name": "python3"
  },
  "language_info": {
   "codemirror_mode": {
    "name": "ipython",
    "version": 3
   },
   "file_extension": ".py",
   "mimetype": "text/x-python",
   "name": "python",
   "nbconvert_exporter": "python",
   "pygments_lexer": "ipython3",
   "version": "3.12.7"
  }
 },
 "nbformat": 4,
 "nbformat_minor": 5
}
